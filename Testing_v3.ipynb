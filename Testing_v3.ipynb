{
 "cells": [
  {
   "cell_type": "code",
   "execution_count": 21,
   "id": "e35da137-b3d2-42b0-97e6-53c115f6af34",
   "metadata": {},
   "outputs": [
    {
     "data": {
      "text/plain": [
       "0"
      ]
     },
     "execution_count": 21,
     "metadata": {},
     "output_type": "execute_result"
    }
   ],
   "source": [
    "import os\n",
    "\n",
    "os.system('export CUDNN_PATH=\"/home/tryptag/kiran/unetv20/lib/python3.10/site-packages/nvidia/cudnn\"')\n",
    "os.system('export LD_LIBRARY_PATH=${CUDNN_PATH}/lib')"
   ]
  },
  {
   "cell_type": "code",
   "execution_count": 22,
   "id": "5ca98df4-0cb4-47eb-9041-006c5eae1c5c",
   "metadata": {},
   "outputs": [],
   "source": [
    "import numpy as np\n",
    "import matplotlib.pyplot as plt\n",
    "from sklearn.metrics import confusion_matrix\n",
    "import tensorflow as tf\n",
    "from tensorflow.keras import layers\n",
    "from tensorflow.keras.callbacks import ModelCheckpoint, CSVLogger, TensorBoard, EarlyStopping\n",
    "from tensorflow.keras.optimizers import Adam\n",
    "\n",
    "gpus = tf.config.list_physical_devices('GPU')\n",
    "if gpus:\n",
    "  # Restrict TensorFlow to only use the first GPU\n",
    "  try:\n",
    "    tf.config.set_visible_devices(gpus[0], 'GPU')\n",
    "    logical_gpus = tf.config.list_logical_devices('GPU')\n",
    "    print(len(gpus), \"Physical GPUs,\", len(logical_gpus), \"Logical GPU\")\n",
    "  except RuntimeError as e:\n",
    "    # Visible devices must be set before GPUs have been initialized\n",
    "    print(e)"
   ]
  },
  {
   "cell_type": "code",
   "execution_count": 23,
   "id": "4bbeed09-fc87-4b99-bf4b-9709067e215b",
   "metadata": {},
   "outputs": [],
   "source": [
    "def double_conv_block(x, n_filters):\n",
    "    # Conv2D then ReLU activation\n",
    "    x = layers.Conv2D(n_filters, 3, padding=\"same\", activation=\"relu\", kernel_initializer=\"he_normal\")(x)\n",
    "    # Conv2D then ReLU activation\n",
    "    x = layers.Conv2D(n_filters, 3, padding=\"same\", activation=\"relu\", kernel_initializer=\"he_normal\")(x)\n",
    "\n",
    "    return x\n",
    "\n",
    "# Downsample Block\n",
    "def downsample_block(x, n_filters):\n",
    "    f = double_conv_block(x, n_filters)\n",
    "    p = layers.MaxPool2D(2)(f)\n",
    "    p = layers.Dropout(0.3)(p)\n",
    "\n",
    "    return f, p\n",
    "\n",
    "\n",
    "def upsample_block(x, conv_features, n_filters):\n",
    "    # upsample\n",
    "    x = layers.Conv2DTranspose(n_filters, 3, 2, padding=\"same\")(x)\n",
    "    # concatenate\n",
    "    x = layers.concatenate([x, conv_features])\n",
    "    # dropout\n",
    "    x = layers.Dropout(0.3)(x)\n",
    "    # Conv2D twice with ReLU activation\n",
    "    x = double_conv_block(x, n_filters)\n",
    "\n",
    "    return x\n",
    "\n",
    "def build_unet_model():\n",
    "    inputs = layers.Input(shape=(320, 320, 1))\n",
    "\n",
    "    f1, p1 = downsample_block(inputs, 64)\n",
    "    f2, p2 = downsample_block(p1, 128)\n",
    "    f3, p3 = downsample_block(p2, 256)\n",
    "    f4, p4 = downsample_block(p3, 512)\n",
    "\n",
    "    bottleneck = double_conv_block(p4, 1024)\n",
    "\n",
    "    u6 = upsample_block(bottleneck, f4, 512)\n",
    "\n",
    "    u7 = upsample_block(u6, f3, 256)\n",
    "\n",
    "    u8 = upsample_block(u7, f2, 128)\n",
    "\n",
    "    u9 = upsample_block(u8, f1, 64)\n",
    "\n",
    "    outputs = layers.Conv2D(1, 1, padding=\"same\", activation = \"sigmoid\")(u9)\n",
    "\n",
    "    unet_model = tf.keras.Model(inputs, outputs, name=\"U-Net\")\n",
    "    \n",
    "    return unet_model"
   ]
  },
  {
   "cell_type": "code",
   "execution_count": 24,
   "id": "c90803af-a850-428d-9048-7e493c8db18f",
   "metadata": {},
   "outputs": [],
   "source": [
    "images = np.load('test_images_TP.npy')\n",
    "ground_truth_masks = np.load('test_masks_TP.npy')"
   ]
  },
  {
   "cell_type": "code",
   "execution_count": null,
   "id": "b2f2daf0-14ba-4d52-9fcf-05eba2aed298",
   "metadata": {},
   "outputs": [],
   "source": []
  },
  {
   "cell_type": "markdown",
   "id": "db576943-bfe1-436a-9715-e787aa242282",
   "metadata": {},
   "source": [
    "## Models\n",
    "\n",
    "### 23 May 2024\n",
    "Uses the random test-train split and hence the model was trained on random images. This experiment is therefore DISCARDED.\n",
    "\n",
    "\n",
    "### 30 May 2024\n",
    "Same phase channel images for Tryptag and Ilastik sets.\n",
    "\n",
    "BUT MISSING masks in Tryptag\n",
    "\n",
    "### 14 June 2024\n",
    "Phase Channels images are not the same for Tryp and Ilastik\n",
    "\n",
    "### 20 June 2024\n",
    "Same phase channel images for Tryptag and Ilastik sets.\n",
    "\n",
    "Uses Tryptag masks that are good\n",
    "\n",
    "### 27 June 2024\n",
    "Same experiment as 20 June 2024 (mistake)\n",
    "\n",
    "### 28 June 2024 (GDL)\n",
    "Uses the Generalized Dice Loss implementation that Ellen created as the loss function\n",
    "\n",
    "### 28 June 2024 (log(cosh(GDL)))\n",
    "Use the $\\log (\\cosh (GDL) )$ as the loss function.\n",
    "\n",
    "Modification of what is used by Jadon et al."
   ]
  },
  {
   "cell_type": "code",
   "execution_count": 68,
   "id": "57f5c5c1-3da4-465c-83b9-c7eb6b6919cb",
   "metadata": {},
   "outputs": [],
   "source": [
    "models = {\n",
    "    \"23May2024\" : {\n",
    "            \"Ilastik Masks\" : '',\n",
    "            \"Tryptag Masks\" : '',\n",
    "            \"Composite Masks\" : ''\n",
    "    },\n",
    "    \"30May2024\" : {\n",
    "            \"Ilastik Masks\" : '/datapot/tryptag/kiran/CellSegmentation_Backup14June2024/unet_30May24_Ilastik/N_EPOCHS_1000/LearningRate_5e-05/BatchSize_24/unet_model_30May24_Ilastik.weights.h5',\n",
    "            \"Tryptag Masks\" : '/datapot/tryptag/kiran/CellSegmentation_Backup14June2024/unet_30May24_Tryptag/N_EPOCHS_1000/LearningRate_5e-05/BatchSize_24/unet_model_30May24_Tryptag.weights.h5',\n",
    "            \"Composite Masks\" : '/datapot/tryptag/kiran/CellSegmentation_Backup14June2024/unet_30May24_Combined/N_EPOCHS_1000/LearningRate_0.0001/BatchSize_24/unet_model_30May24_Combined.weights.h5' \n",
    "    },\n",
    "    \"14June2024\" : {\n",
    "            \"Ilastik Masks\" : '/datapot/tryptag/kiran/CellSegmentation_Backup14June2024/unet_30May24_Ilastik/N_EPOCHS_1000/LearningRate_5e-05/BatchSize_24/unet_model_30May24_Ilastik.weights.h5',\n",
    "            \"Tryptag Masks\" : '/datapot/tryptag/kiran/unet_14Juni2024_Tryptag/N_EPOCHS_2000/LearningRate_0.0001/BatchSize_24/unet_model_14Juni2024_Tryptag.weights.h5',\n",
    "            \"Composite Masks\" : '/datapot/tryptag/kiran/unet_14Juni2024_Combined/N_EPOCHS_2000/LearningRate_1e-05/BatchSize_24/unet_model_14Juni2024_Combined.weights.h5'\n",
    "    },\n",
    "    \"20June2024\" : {\n",
    "            \"Ilastik Masks\" : '/datapot/tryptag/kiran/Results/unet_20Juni2024_Ilastik/N_EPOCHS_2000/LearningRate_0.0001/BatchSize_24/unet_model_20Juni2024_Ilastik.weights.h5',\n",
    "            \"Tryptag Masks\" : '/datapot/tryptag/kiran/Results/unet_20Juni2024_Tryptag/N_EPOCHS_1000/LearningRate_0.0001/BatchSize_24/unet_model_20Juni2024_Tryptag.weights.h5',\n",
    "            \"Composite Masks\" : '/datapot/tryptag/kiran/Results/unet_20Juni2024_Combined/N_EPOCHS_1000/LearningRate_5e-05/BatchSize_24/unet_model_20Juni2024_Combined.weights.h5'\n",
    "    },\n",
    "    \"27June2024\" : {\n",
    "            \"Ilastik Masks\" : '/datapot/tryptag/kiran/Results/unet_27Juni2024_Ilastik/N_EPOCHS_1000/LearningRate_5e-05/BatchSize_24/unet_model_27Juni2024_Ilastik.weights.h5',\n",
    "            \"Tryptag Masks\" : '/datapot/tryptag/kiran/Results/unet_27Juni2024_Tryptag/N_EPOCHS_2000/LearningRate_0.0001/BatchSize_24/unet_model_27Juni2024_Tryptag.weights.h5',\n",
    "            \"Composite Masks\" : '/datapot/tryptag/kiran/Results/unet_27Juni2024_Combined/N_EPOCHS_1000/LearningRate_5e-05/BatchSize_24/unet_model_27Juni2024_Combined.weights.h5'\n",
    "    },\n",
    "    \"28June2024_GDL\": {\n",
    "            \"Ilastik Masks\" : '/datapot/tryptag/kiran/Results/unet_28Juni2024_GDL_Ilastik/N_EPOCHS_2000/LearningRate_0.0001/BatchSize_24/unet_model_28Juni2024_GDL_Ilastik.weights.h5',\n",
    "            \"Tryptag Masks\" : '/datapot/tryptag/kiran/Results/unet_28Juni2024_GDL_Tryptag/N_EPOCHS_2000/LearningRate_0.0001/BatchSize_24/unet_model_28Juni2024_GDL_Tryptag.weights.h5',\n",
    "            \"Composite Masks\" : '/datapot/tryptag/kiran/Results/unet_28Juni2024_GDL_Combined/N_EPOCHS_1000/LearningRate_0.0001/BatchSize_24/unet_model_28Juni2024_GDL_Combined.weights.h5'\n",
    "    },\n",
    "    \"28June2024_LogCoshGDL\": {\n",
    "            \"Ilastik Masks\" : '/datapot/tryptag/kiran/Results/unet_28Juni2024_LogCoshGDL_Ilastik/N_EPOCHS_2000/LearningRate_5e-05/BatchSize_24/unet_model_28Juni2024_LogCoshGDL_Ilastik.weights.h5',\n",
    "            \"Tryptag Masks\" : '/datapot/tryptag/kiran/Results/unet_28Juni2024_LogCoshGDL_Tryptag/N_EPOCHS_1000/LearningRate_5e-05/BatchSize_24/unet_model_28Juni2024_LogCoshGDL_Tryptag.weights.h5',\n",
    "            \"Composite Masks\" : '/datapot/tryptag/kiran/Results/unet_28Juni2024_LogCoshGDL_Combined/N_EPOCHS_2000/LearningRate_0.0001/BatchSize_24/unet_model_28Juni2024_LogCoshGDL_Combined.weights.h5'\n",
    "    },\n",
    "}"
   ]
  },
  {
   "cell_type": "code",
   "execution_count": 78,
   "id": "73e83732-e08a-43f1-b5c3-412793704e6c",
   "metadata": {},
   "outputs": [
    {
     "data": {
      "text/plain": [
       "dict_keys(['23May2024', '30May2024', '14June2024', '20June2024', '27June2024', '28June2024_GDL', '28June2024_LogCoshGDL'])"
      ]
     },
     "execution_count": 78,
     "metadata": {},
     "output_type": "execute_result"
    }
   ],
   "source": [
    "models.keys()"
   ]
  },
  {
   "cell_type": "code",
   "execution_count": 79,
   "id": "4a6e99b3-f138-4407-903e-9d8ed3a00d37",
   "metadata": {},
   "outputs": [
    {
     "data": {
      "text/plain": [
       "{'Ilastik Masks': '/datapot/tryptag/kiran/Results/unet_28Juni2024_LogCoshGDL_Ilastik/N_EPOCHS_2000/LearningRate_5e-05/BatchSize_24/unet_model_28Juni2024_LogCoshGDL_Ilastik.weights.h5',\n",
       " 'Tryptag Masks': '/datapot/tryptag/kiran/Results/unet_28Juni2024_LogCoshGDL_Tryptag/N_EPOCHS_1000/LearningRate_5e-05/BatchSize_24/unet_model_28Juni2024_LogCoshGDL_Tryptag.weights.h5',\n",
       " 'Composite Masks': '/datapot/tryptag/kiran/Results/unet_28Juni2024_LogCoshGDL_Combined/N_EPOCHS_2000/LearningRate_0.0001/BatchSize_24/unet_model_28Juni2024_LogCoshGDL_Combined.weights.h5'}"
      ]
     },
     "execution_count": 79,
     "metadata": {},
     "output_type": "execute_result"
    }
   ],
   "source": [
    "# best_models = {\n",
    "#     \"Ilastik Masks\" : '/home/tryptag/kiran/CellSegmentation/unet_20Juni2024_Ilastik/N_EPOCHS_2000/LearningRate_0.0001/BatchSize_24/unet_model_20Juni2024_Ilastik.weights.h5',\n",
    "#     \"Tryptag Masks\" : '/home/tryptag/kiran/CellSegmentation/unet_20Juni2024_Tryptag/N_EPOCHS_1000/LearningRate_0.0001/BatchSize_24/unet_model_20Juni2024_Tryptag.weights.h5',\n",
    "#     \"Composite Masks\" : '/home/tryptag/kiran/CellSegmentation/unet_20Juni2024_Combined/N_EPOCHS_1000/LearningRate_5e-05/BatchSize_24/unet_model_20Juni2024_Combined.weights.h5',\n",
    "# }\n",
    "\n",
    "experiment_date = '28June2024_LogCoshGDL'\n",
    "best_models = models[experiment_date]\n",
    "best_models"
   ]
  },
  {
   "cell_type": "code",
   "execution_count": 80,
   "id": "cd30ab47-7adb-40ba-9646-976c7939b2fd",
   "metadata": {},
   "outputs": [],
   "source": [
    "# for keys in best_models:\n",
    "#     model_weights_path = best_models[keys]\n",
    "#     unet_model = build_unet_model()\n",
    "#     metrics = [tf.keras.metrics.BinaryIoU(target_class_ids=[0, 1], threshold=0.5)]\n",
    "#     unet_model.compile(optimizer=Adam(), loss=tf.keras.losses.BinaryCrossentropy(from_logits=False),\n",
    "#                                    metrics=metrics)\n",
    "#     unet_model.load_weights(model_weights_path)\n",
    "#     test_loss, test_iou = unet_model.evaluate(tf.stack(images), tf.stack(ground_truth_masks))\n",
    "#     print(\"\\n\", keys)\n",
    "#     print(\"Test loss : \", test_loss)\n",
    "#     print(\"Test IoU : \", test_iou)"
   ]
  },
  {
   "cell_type": "code",
   "execution_count": 81,
   "id": "bcc57fe3-75f4-4209-8f17-73f874706579",
   "metadata": {},
   "outputs": [
    {
     "name": "stdout",
     "output_type": "stream",
     "text": [
      "\u001b[1m7/7\u001b[0m \u001b[32m━━━━━━━━━━━━━━━━━━━━\u001b[0m\u001b[37m\u001b[0m \u001b[1m54s\u001b[0m 8s/step\n"
     ]
    }
   ],
   "source": [
    "ilastik_unet = build_unet_model()\n",
    "metrics = [tf.keras.metrics.BinaryIoU(target_class_ids=[0, 1], threshold=0.5)]\n",
    "ilastik_unet.compile(optimizer=Adam(), loss=tf.keras.losses.BinaryCrossentropy(from_logits=False),\n",
    "                                   metrics=metrics)\n",
    "ilastik_unet.load_weights(best_models[\"Ilastik Masks\"])\n",
    "ilastik_predictions = ilastik_unet.predict(tf.stack(images))\n",
    "ilastik_predictions = ilastik_predictions > 0.5"
   ]
  },
  {
   "cell_type": "code",
   "execution_count": 82,
   "id": "040103b0-1acd-41f6-b185-b1003688032e",
   "metadata": {},
   "outputs": [
    {
     "name": "stdout",
     "output_type": "stream",
     "text": [
      "\u001b[1m7/7\u001b[0m \u001b[32m━━━━━━━━━━━━━━━━━━━━\u001b[0m\u001b[37m\u001b[0m \u001b[1m54s\u001b[0m 8s/step\n"
     ]
    }
   ],
   "source": [
    "tryptag_unet = build_unet_model()\n",
    "metrics = [tf.keras.metrics.BinaryIoU(target_class_ids=[0, 1], threshold=0.5)]\n",
    "tryptag_unet.compile(optimizer=Adam(), loss=tf.keras.losses.BinaryCrossentropy(from_logits=False),\n",
    "                                   metrics=metrics)\n",
    "tryptag_unet.load_weights(best_models[\"Tryptag Masks\"])\n",
    "tryptag_predictions = tryptag_unet.predict(tf.stack(images))\n",
    "tryptag_predictions = tryptag_predictions > 0.5"
   ]
  },
  {
   "cell_type": "code",
   "execution_count": 83,
   "id": "552db701-cb60-465c-8058-7c3a7f6bb42d",
   "metadata": {},
   "outputs": [
    {
     "name": "stdout",
     "output_type": "stream",
     "text": [
      "\u001b[1m7/7\u001b[0m \u001b[32m━━━━━━━━━━━━━━━━━━━━\u001b[0m\u001b[37m\u001b[0m \u001b[1m55s\u001b[0m 8s/step\n"
     ]
    }
   ],
   "source": [
    "composite_unet = build_unet_model()\n",
    "metrics = [tf.keras.metrics.BinaryIoU(target_class_ids=[0, 1], threshold=0.5)]\n",
    "composite_unet.compile(optimizer=Adam(), loss=tf.keras.losses.BinaryCrossentropy(from_logits=False),\n",
    "                                   metrics=metrics)\n",
    "composite_unet.load_weights(best_models[\"Composite Masks\"])\n",
    "composite_predictions = composite_unet.predict(tf.stack(images))\n",
    "composite_predictions = composite_predictions > 0.5"
   ]
  },
  {
   "cell_type": "code",
   "execution_count": 84,
   "id": "33f8c91c-ad85-4d30-9bef-3b68b6b51729",
   "metadata": {},
   "outputs": [],
   "source": [
    "# for i in range(len(images)):\n",
    "#     fig, axes = plt.subplots(1, 5, figsize=(20,5))\n",
    "#     # fig, axes = plt.subplots(1, 3, figsize=(20,5))\n",
    "#     axes[0].imshow(images[i])\n",
    "#     axes[0].axis('off')\n",
    "#     axes[0].set_title('Phase Contrast')\n",
    "    \n",
    "#     axes[1].imshow(ground_truth_masks[i])\n",
    "#     axes[1].axis('off')\n",
    "#     axes[1].set_title('Ground Truth')\n",
    "    \n",
    "#     axes[2].imshow(ilastik_predictions[i])\n",
    "#     axes[2].axis('off')\n",
    "#     axes[2].set_title('Ilastik Trained')\n",
    "    \n",
    "#     axes[3].imshow(tryptag_predictions[i])\n",
    "#     axes[3].axis('off')\n",
    "#     axes[3].set_title('Tryptag Trained')\n",
    "    \n",
    "#     axes[4].imshow(composite_predictions[i])\n",
    "#     axes[4].axis('off')\n",
    "#     axes[4].set_title('Trained on mixture')\n",
    "\n",
    "#     plt.tight_layout()\n",
    "#     plt.show()\n",
    "#     fig.savefig(f'Comparison_20June2024/Images_and_Masks_{i}.png')\n",
    "#     plt.close(fig)"
   ]
  },
  {
   "cell_type": "code",
   "execution_count": 85,
   "id": "8e96a52e-decc-4e19-a63d-309e787da52f",
   "metadata": {},
   "outputs": [],
   "source": [
    "np.save(f'/datapot/tryptag/kiran/Predictions_using_models/ilastik_predictions_{experiment_date}.npy', tf.squeeze(ilastik_predictions).numpy())"
   ]
  },
  {
   "cell_type": "code",
   "execution_count": 86,
   "id": "e5d79ec4-fc25-4a0a-a362-943467e58437",
   "metadata": {},
   "outputs": [],
   "source": [
    "np.save(f'/datapot/tryptag/kiran/Predictions_using_models/tryptag_predictions_{experiment_date}.npy', tf.squeeze(tryptag_predictions).numpy())\n",
    "np.save(f'/datapot/tryptag/kiran/Predictions_using_models/combined_predictions_{experiment_date}.npy', tf.squeeze(composite_predictions).numpy())"
   ]
  },
  {
   "cell_type": "code",
   "execution_count": null,
   "id": "dbce9298-a688-49d2-9132-45bf91456035",
   "metadata": {},
   "outputs": [],
   "source": []
  }
 ],
 "metadata": {
  "kernelspec": {
   "display_name": "Python 3 (ipykernel)",
   "language": "python",
   "name": "python3"
  },
  "language_info": {
   "codemirror_mode": {
    "name": "ipython",
    "version": 3
   },
   "file_extension": ".py",
   "mimetype": "text/x-python",
   "name": "python",
   "nbconvert_exporter": "python",
   "pygments_lexer": "ipython3",
   "version": "3.12.3"
  }
 },
 "nbformat": 4,
 "nbformat_minor": 5
}
