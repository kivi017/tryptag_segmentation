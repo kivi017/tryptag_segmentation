{
 "cells": [
  {
   "cell_type": "code",
   "execution_count": 14,
   "id": "bb2cb812-68c2-4fef-b789-348ce9b309b0",
   "metadata": {},
   "outputs": [],
   "source": [
    "import numpy as np\n",
    "import matplotlib.pyplot as plt\n",
    "import csv"
   ]
  },
  {
   "cell_type": "code",
   "execution_count": 15,
   "id": "96c67b91-4aca-4782-8d41-74faecda64e3",
   "metadata": {},
   "outputs": [],
   "source": [
    "def compute_iou(pred, gt):\n",
    "    \"\"\"\n",
    "    Compute Intersection over Union (IoU)\n",
    "    :param pred: numpy array of predictions\n",
    "    :param gt: numpy array of ground truth\n",
    "    :return: IoU score\n",
    "    \"\"\"\n",
    "    intersection = np.logical_and(pred == 1, gt == 1)\n",
    "    union = np.logical_or(pred == 1, gt == 1)\n",
    "    iou = np.sum(intersection) / np.sum(union)\n",
    "    return iou\n",
    "\n",
    "def compute_precision(pred, gt):\n",
    "    \"\"\"\n",
    "    Compute Precision\n",
    "    :param pred: numpy array of predictions\n",
    "    :param gt: numpy array of ground truth\n",
    "    :return: Precision score\n",
    "    \"\"\"\n",
    "    true_positive = np.sum((pred == 1) & (gt == 1))\n",
    "    false_positive = np.sum((pred == 1) & (gt != 1))\n",
    "    precision = true_positive / (true_positive + false_positive)\n",
    "    return precision\n",
    "\n",
    "def compute_recall(pred, gt):\n",
    "    \"\"\"\n",
    "    Compute Recall\n",
    "    :param pred: numpy array of predictions\n",
    "    :param gt: numpy array of ground truth\n",
    "    :return: Recall score\n",
    "    \"\"\"\n",
    "    true_positive = np.sum((pred == 1) & (gt == 1))\n",
    "    false_negative = np.sum((pred != 1) & (gt == 1))\n",
    "    recall = true_positive / (true_positive + false_negative)\n",
    "    return recall"
   ]
  },
  {
   "cell_type": "code",
   "execution_count": 25,
   "id": "cd709d25-7872-4f1f-a273-164c50b7a374",
   "metadata": {},
   "outputs": [],
   "source": [
    "def get_evaluation_metrics(model_predictions, ground_truths):\n",
    "    iou = np.round(compute_iou(pred=model_predictions, gt=ground_truths), 5)\n",
    "    precision = np.round(compute_precision(pred=model_predictions, gt=ground_truths), 5)\n",
    "    recall = np.round(compute_recall(pred=model_predictions, gt=ground_truths), 5)\n",
    "\n",
    "    true_positive = np.sum((model_predictions == 1) & (ground_truths == 1))\n",
    "    false_positive = np.sum((model_predictions == 1) & (ground_truths != 1))    \n",
    "    true_negative = np.sum((model_predictions != 1) & (ground_truths != 1))\n",
    "    false_negative = np.sum((model_predictions != 1) & (ground_truths == 1))\n",
    "\n",
    "    true_positive_ratio = np.round(true_positive/(true_positive+false_positive+true_negative+false_negative), 4)\n",
    "    false_positive_ratio = np.round(false_positive/(true_positive+false_positive+true_negative+false_negative), 4)\n",
    "    true_negative_ratio = np.round(true_negative/(true_positive+false_positive+true_negative+false_negative), 4)\n",
    "    false_negative_ratio = np.round(false_negative/(true_positive+false_positive+true_negative+false_negative), 4)\n",
    "\n",
    "    return iou, precision, recall, true_positive, false_positive, true_negative, false_negative, true_positive_ratio, false_positive_ratio, true_negative_ratio, false_negative_ratio"
   ]
  },
  {
   "cell_type": "markdown",
   "id": "3ae4b101-0b1c-42b7-9130-35aeffce5446",
   "metadata": {},
   "source": [
    "$\\text{IoU} = \\frac{|A \\cap B|}{|A \\cup B|}$\n",
    "\n",
    "$\\text{Precision} = \\frac{\\text{TP}}{\\text{TP} + \\text{FP}}$\n",
    "\n",
    "$\\text{Recall} = \\frac{\\text{TP}}{\\text{TP} + \\text{FN}}$\n"
   ]
  },
  {
   "cell_type": "code",
   "execution_count": 29,
   "id": "3229e8b5-03ca-4775-9852-8bd69aad6536",
   "metadata": {},
   "outputs": [],
   "source": [
    "def evaluate_and_save_results(models, experiment_date):\n",
    "    \n",
    "    ground_truths = np.load('/home/tryptag/kiran/CellSegmentation/unet_v20_Testing/test_masks_TP.npy')\n",
    "\n",
    "    csv_file = f\"/datapot/tryptag/kiran/Predictions_using_models/{experiment_date}.csv\"\n",
    "\n",
    "    with open(csv_file, mode='w', newline='') as file:\n",
    "        writer = csv.writer(file)\n",
    "        writer.writerow(['Model', 'IoU', 'Precision', 'Recall', 'True Positive', 'False Positive', 'True Negative', 'False Negative', 'True Positive Ratio', 'False Positive Ratio', 'True Negative Ratio', 'False Negative Ratio'])\n",
    "\n",
    "        # Iterating through the models\n",
    "        for model in models:\n",
    "            model_predictions = np.load(f\"/datapot/tryptag/kiran/Predictions_using_models/{model}_predictions_{experiment_date}.npy\")\n",
    "            iou, precision, recall, tp, fp, tn, fn, tpr, fpr, tnr, fnr  = get_evaluation_metrics(model_predictions, ground_truths)\n",
    "            writer.writerow([model, iou, precision, recall, tp, fp, tn, fn, tpr, fpr, tnr, fnr])"
   ]
  },
  {
   "cell_type": "code",
   "execution_count": 31,
   "id": "bfd03ceb-11e4-4742-bd82-2ad2dc6c2308",
   "metadata": {},
   "outputs": [],
   "source": [
    "# experiment_date = '20June2024'\n",
    "models = ['ilastik', 'tryptag', 'combined']\n",
    "\n",
    "# experiment_dates = ['30May2024', '14June2024', '20June2024']\n",
    "experiment_dates = ['28June2024_GDL', '28June2024_LogCoshGDL']\n",
    "for experiment_date in experiment_dates:\n",
    "    evaluate_and_save_results(models=models, experiment_date=experiment_date)"
   ]
  },
  {
   "cell_type": "code",
   "execution_count": null,
   "id": "c6d7b23d-7f46-48f5-8c95-0553c08fb91b",
   "metadata": {},
   "outputs": [],
   "source": []
  },
  {
   "cell_type": "code",
   "execution_count": null,
   "id": "183526e4-b6bb-472f-bc5a-8a6323bd8103",
   "metadata": {},
   "outputs": [],
   "source": []
  }
 ],
 "metadata": {
  "kernelspec": {
   "display_name": "Python 3 (ipykernel)",
   "language": "python",
   "name": "python3"
  },
  "language_info": {
   "codemirror_mode": {
    "name": "ipython",
    "version": 3
   },
   "file_extension": ".py",
   "mimetype": "text/x-python",
   "name": "python",
   "nbconvert_exporter": "python",
   "pygments_lexer": "ipython3",
   "version": "3.12.3"
  }
 },
 "nbformat": 4,
 "nbformat_minor": 5
}
